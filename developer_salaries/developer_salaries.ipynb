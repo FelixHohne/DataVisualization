{
 "cells": [
  {
   "cell_type": "code",
   "execution_count": null,
   "metadata": {
    "collapsed": true
   },
   "outputs": [],
   "source": [
    "from matplotlib import pyplot as plt \n",
    "import pandas as pd \n",
    "\n",
    "data = pd.read_csv(\"area_data.csv\")\n",
    "plt.style.use(\"fivethirtyeight\")\n",
    "ages = data[\"Age\"]\n",
    "dev_salaries = data[\"All_Devs\"]\n",
    "py_salaries = data[\"Python\"]\n",
    "js_salaries = data[\"JavaScript\"]"
   ]
  },
  {
   "cell_type": "code",
   "execution_count": null,
   "outputs": [],
   "source": [
    "plt.plot(ages, dev_salaries, label=\"All developers\")\n",
    "plt.plot(ages, py_salaries, label=\"Python developers\")\n",
    "plt.title(\"Developer Salaries and Age\")\n",
    "plt.xlabel(\"Age\")\n",
    "plt.ylabel(\"Salary (USD)\")\n",
    "plt.ylim(ymin=0)\n",
    "plt.fill_between(ages, py_salaries, dev_salaries, \n",
    "                 where=(py_salaries > dev_salaries), \n",
    "                 interpolate=True, label=\"Above Avg.\", alpha=0.25)\n",
    "plt.fill_between(ages, py_salaries, dev_salaries, \n",
    "                 where=(py_salaries < dev_salaries), \n",
    "                 interpolate=True, label=\"Below Avg.\", alpha=0.25)\n",
    "plt.legend()\n"
   ],
   "metadata": {
    "collapsed": false,
    "pycharm": {
     "name": "#%%\n"
    }
   }
  }
 ],
 "metadata": {
  "kernelspec": {
   "display_name": "Python 3",
   "language": "python",
   "name": "python3"
  },
  "language_info": {
   "codemirror_mode": {
    "name": "ipython",
    "version": 2
   },
   "file_extension": ".py",
   "mimetype": "text/x-python",
   "name": "python",
   "nbconvert_exporter": "python",
   "pygments_lexer": "ipython2",
   "version": "2.7.6"
  },
  "pycharm": {
   "stem_cell": {
    "cell_type": "raw",
    "source": [],
    "metadata": {
     "collapsed": false
    }
   }
  }
 },
 "nbformat": 4,
 "nbformat_minor": 0
}
